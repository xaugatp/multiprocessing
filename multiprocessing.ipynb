{
 "cells": [
  {
   "cell_type": "code",
   "execution_count": 1,
   "metadata": {},
   "outputs": [],
   "source": [
    "#Q1. What is multiprocessing in python? Why is it useful?"
   ]
  },
  {
   "cell_type": "code",
   "execution_count": 3,
   "metadata": {},
   "outputs": [
    {
     "data": {
      "text/plain": [
       "'\\nMultiprocessing in Python:\\n\\nMultiprocessing in Python refers to the capability of a program to create and \\nrun multiple processes concurrently. Each process has its own Python interpreter and runs independently of the others. \\nMultiprocessing is a way to achieve parallelism and leverage multiple CPU cores,\\nallowing different tasks to be executed simultaneously.\\nIt is useful for :\\ni) Parallel Execution\\nii) Isolation\\niii) GIL Bypass\\niv)Improved Performance\\nv) Fault Tolerance\\n'"
      ]
     },
     "execution_count": 3,
     "metadata": {},
     "output_type": "execute_result"
    }
   ],
   "source": [
    "'''\n",
    "Multiprocessing in Python:\n",
    "\n",
    "Multiprocessing in Python refers to the capability of a program to create and \n",
    "run multiple processes concurrently. Each process has its own Python interpreter and runs independently of the others. \n",
    "Multiprocessing is a way to achieve parallelism and leverage multiple CPU cores,\n",
    "allowing different tasks to be executed simultaneously.\n",
    "It is useful for :\n",
    "i) Parallel Execution\n",
    "ii) Isolation\n",
    "iii) GIL Bypass\n",
    "iv)Improved Performance\n",
    "v) Fault Tolerance\n",
    "'''"
   ]
  },
  {
   "cell_type": "code",
   "execution_count": 4,
   "metadata": {},
   "outputs": [],
   "source": [
    "#Q2. What are the differences between multiprocessing and multithreading?"
   ]
  },
  {
   "cell_type": "code",
   "execution_count": 5,
   "metadata": {},
   "outputs": [
    {
     "data": {
      "text/plain": [
       "'Multiprocessing vs. Multithreading in Python:\\n\\n**1. Definition:\\n\\nMultiprocessing: In multiprocessing, multiple processes are created, each with its own Python interpreter and memory space. Processes run independently of each other.\\nMultithreading: In multithreading, multiple threads are created within a single process. All threads share the same Python interpreter and memory space.\\n2. Parallelism:\\n\\nMultiprocessing: Achieves true parallelism by utilizing multiple CPU cores. Each process runs concurrently, and the Global Interpreter Lock (GIL) is not a limitation.\\nMultithreading: In CPython, due to the GIL, true parallelism is limited in CPU-bound tasks. However, multithreading can be effective for I/O-bound operations.\\n3. Memory Space:\\n\\nMultiprocessing: Each process has its own memory space. Changes in one process do not affect others, providing better isolation.\\nMultithreading: All threads share the same memory space. This can lead to potential issues like race conditions if proper synchronization mechanisms are not used.\\n4. GIL (Global Interpreter Lock):\\n\\nMultiprocessing: Each process has its own GIL, so the GIL is not a limitation. Multiple processes can execute Python bytecode in parallel.\\nMultithreading: Multiple threads share the same GIL, which prevents multiple native threads from executing Python bytecode simultaneously. This can limit parallelism in CPU-bound tasks.\\n5. Fault Tolerance:\\n\\nMultiprocessing: If one process encounters an error or crashes, it does not affect other processes. Provides a level of fault tolerance.\\nMultithreading: If one thread encounters an error, it may affect the entire process, leading to potential instability.\\n6. Overhead:\\n\\nMultiprocessing: Creating and managing processes incurs more overhead compared to threads. Processes have separate memory spaces.\\nMultithreading: Creating and managing threads has lower overhead. Threads share the same memory space but require proper synchronization.\\n7. Use Cases:\\n\\nMultiprocessing: Well-suited for CPU-bound tasks, such as intensive calculations, where parallelism can lead to performance improvements.\\nMultithreading: Effective for I/O-bound tasks, such as file I/O or network operations, where threads can wait for external resources without blocking the entire process.\\n8. Complexity:\\n\\nMultiprocessing: Generally simpler to reason about as processes have separate memory spaces. Inter-process communication may require additional mechanisms.\\nMultithreading: More complex due to shared memory space. Requires proper synchronization mechanisms to avoid race conditions and ensure data consistency.'"
      ]
     },
     "execution_count": 5,
     "metadata": {},
     "output_type": "execute_result"
    }
   ],
   "source": [
    "'''Multiprocessing vs. Multithreading in Python:\n",
    "\n",
    "**1. Definition:\n",
    "\n",
    "Multiprocessing: In multiprocessing, multiple processes are created, each with its own Python interpreter and memory space. Processes run independently of each other.\n",
    "Multithreading: In multithreading, multiple threads are created within a single process. All threads share the same Python interpreter and memory space.\n",
    "2. Parallelism:\n",
    "\n",
    "Multiprocessing: Achieves true parallelism by utilizing multiple CPU cores. Each process runs concurrently, and the Global Interpreter Lock (GIL) is not a limitation.\n",
    "Multithreading: In CPython, due to the GIL, true parallelism is limited in CPU-bound tasks. However, multithreading can be effective for I/O-bound operations.\n",
    "3. Memory Space:\n",
    "\n",
    "Multiprocessing: Each process has its own memory space. Changes in one process do not affect others, providing better isolation.\n",
    "Multithreading: All threads share the same memory space. This can lead to potential issues like race conditions if proper synchronization mechanisms are not used.\n",
    "4. GIL (Global Interpreter Lock):\n",
    "\n",
    "Multiprocessing: Each process has its own GIL, so the GIL is not a limitation. Multiple processes can execute Python bytecode in parallel.\n",
    "Multithreading: Multiple threads share the same GIL, which prevents multiple native threads from executing Python bytecode simultaneously. This can limit parallelism in CPU-bound tasks.\n",
    "5. Fault Tolerance:\n",
    "\n",
    "Multiprocessing: If one process encounters an error or crashes, it does not affect other processes. Provides a level of fault tolerance.\n",
    "Multithreading: If one thread encounters an error, it may affect the entire process, leading to potential instability.\n",
    "6. Overhead:\n",
    "\n",
    "Multiprocessing: Creating and managing processes incurs more overhead compared to threads. Processes have separate memory spaces.\n",
    "Multithreading: Creating and managing threads has lower overhead. Threads share the same memory space but require proper synchronization.\n",
    "7. Use Cases:\n",
    "\n",
    "Multiprocessing: Well-suited for CPU-bound tasks, such as intensive calculations, where parallelism can lead to performance improvements.\n",
    "Multithreading: Effective for I/O-bound tasks, such as file I/O or network operations, where threads can wait for external resources without blocking the entire process.\n",
    "8. Complexity:\n",
    "\n",
    "Multiprocessing: Generally simpler to reason about as processes have separate memory spaces. Inter-process communication may require additional mechanisms.\n",
    "Multithreading: More complex due to shared memory space. Requires proper synchronization mechanisms to avoid race conditions and ensure data consistency.'''"
   ]
  },
  {
   "cell_type": "code",
   "execution_count": 6,
   "metadata": {},
   "outputs": [],
   "source": [
    "#Q3. Write a python code to create a process using the multiprocessing module."
   ]
  },
  {
   "cell_type": "code",
   "execution_count": 7,
   "metadata": {},
   "outputs": [
    {
     "name": "stdout",
     "output_type": "stream",
     "text": [
      "Main process continues...\n"
     ]
    }
   ],
   "source": [
    "import multiprocessing\n",
    "import os\n",
    "\n",
    "def print_process_info():\n",
    "    process_id = os.getpid()\n",
    "    process_name = multiprocessing.current_process().name\n",
    "    print(f\"Process ID: {process_id}, Process Name: {process_name}\")\n",
    "\n",
    "if __name__ == \"__main__\":\n",
    "    # Create a multiprocessing Process\n",
    "    my_process = multiprocessing.Process(target=print_process_info)\n",
    "\n",
    "    # Start the process\n",
    "    my_process.start()\n",
    "\n",
    "    # Wait for the process to finish (optional)\n",
    "    my_process.join()\n",
    "\n",
    "    print(\"Main process continues...\")\n"
   ]
  },
  {
   "cell_type": "code",
   "execution_count": 8,
   "metadata": {},
   "outputs": [],
   "source": [
    "#Q4. What is a multiprocessing pool in python? Why is it used?"
   ]
  },
  {
   "cell_type": "code",
   "execution_count": 10,
   "metadata": {},
   "outputs": [
    {
     "data": {
      "text/plain": [
       "'\\nA multiprocessing pool in Python, specifically referring to the multiprocessing.Pool class, is a high-level interface for parallelizing and distributing the execution of a function across multiple processes. It provides a convenient way to parallelize computations and manage the distribution of work among available CPU cores.\\n\\nuses:\\n\\nParallel Execution: The Pool class allows you to parallelize the execution of a function by distributing the workload across multiple processes. Each process in the pool can execute a separate instance of the function.\\n\\nTask Distribution: It automatically divides the input data into chunks and assigns each chunk to a different process in the pool. This simplifies the parallelization of tasks, especially when dealing with iterable data.\\n\\nConcurrency: The processes in the pool can execute concurrently, taking advantage of multiple CPU cores. This leads to improved performance, especially in CPU-bound tasks.\\n\\nResult Gathering: The Pool class provides methods to collect and retrieve results from parallel executions. It handles the communication and synchronization between processes to gather the results efficiently.'"
      ]
     },
     "execution_count": 10,
     "metadata": {},
     "output_type": "execute_result"
    }
   ],
   "source": [
    "'''\n",
    "A multiprocessing pool in Python, specifically referring to the multiprocessing.Pool class, is a high-level interface for parallelizing and distributing the execution of a function across multiple processes. It provides a convenient way to parallelize computations and manage the distribution of work among available CPU cores.\n",
    "\n",
    "uses:\n",
    "\n",
    "Parallel Execution: The Pool class allows you to parallelize the execution of a function by distributing the workload across multiple processes. Each process in the pool can execute a separate instance of the function.\n",
    "\n",
    "Task Distribution: It automatically divides the input data into chunks and assigns each chunk to a different process in the pool. This simplifies the parallelization of tasks, especially when dealing with iterable data.\n",
    "\n",
    "Concurrency: The processes in the pool can execute concurrently, taking advantage of multiple CPU cores. This leads to improved performance, especially in CPU-bound tasks.\n",
    "\n",
    "Result Gathering: The Pool class provides methods to collect and retrieve results from parallel executions. It handles the communication and synchronization between processes to gather the results efficiently.'''"
   ]
  },
  {
   "cell_type": "code",
   "execution_count": 11,
   "metadata": {},
   "outputs": [],
   "source": [
    "#Q5. How can we create a pool of worker processes in python using the multiprocessing module?"
   ]
  },
  {
   "cell_type": "code",
   "execution_count": 1,
   "metadata": {},
   "outputs": [],
   "source": [
    "import multiprocessing\n",
    "\n",
    "def square(number):\n",
    "    return number * number\n",
    "\n",
    "if __name__ == \"__main__\":\n",
    "    # Create a multiprocessing Pool with 4 processes\n",
    "    with multiprocessing.Pool(processes=4) as pool:\n",
    "        # Define a list of numbers\n",
    "        numbers = [1, 2, 3, 4, 5]\n",
    "\n",
    "        # Use the map function to apply the square function to each element in parallel\n",
    "        results = pool.map(square, numbers)\n",
    "\n",
    "        # Print the results\n",
    "        print(\"Original Numbers:\", numbers)\n",
    "        print(\"Squared Numbers:\", results) \n"
   ]
  },
  {
   "cell_type": "code",
   "execution_count": null,
   "metadata": {},
   "outputs": [],
   "source": [
    "#Q6. Write a python program to create 4 processes, each process should print a different number using the\n",
    "#multiprocessing module in python."
   ]
  },
  {
   "cell_type": "code",
   "execution_count": null,
   "metadata": {},
   "outputs": [],
   "source": [
    "import multiprocessing\n",
    "\n",
    "def print_number(number):\n",
    "    print(f\"Process {number}: My number is {number}\")\n",
    "\n",
    "if __name__ == \"__main__\":\n",
    "    # Create a list of numbers\n",
    "    numbers = [1, 2, 3, 4]\n",
    "\n",
    "    # Create a multiprocessing Pool with 4 processes\n",
    "    with multiprocessing.Pool(processes=4) as pool:\n",
    "        # Use the map function to apply the print_number function to each element in parallel\n",
    "        pool.map(print_number, numbers)\n"
   ]
  },
  {
   "cell_type": "code",
   "execution_count": null,
   "metadata": {},
   "outputs": [],
   "source": []
  }
 ],
 "metadata": {
  "kernelspec": {
   "display_name": "Python 3",
   "language": "python",
   "name": "python3"
  },
  "language_info": {
   "codemirror_mode": {
    "name": "ipython",
    "version": 3
   },
   "file_extension": ".py",
   "mimetype": "text/x-python",
   "name": "python",
   "nbconvert_exporter": "python",
   "pygments_lexer": "ipython3",
   "version": "3.11.7"
  }
 },
 "nbformat": 4,
 "nbformat_minor": 2
}
